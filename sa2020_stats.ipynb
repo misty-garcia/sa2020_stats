{
 "cells": [
  {
   "cell_type": "markdown",
   "metadata": {},
   "source": [
    "## Review"
   ]
  },
  {
   "cell_type": "code",
   "execution_count": 1,
   "metadata": {},
   "outputs": [],
   "source": [
    "import pandas as pd\n",
    "import numpy as np\n",
    "import os"
   ]
  },
  {
   "cell_type": "code",
   "execution_count": 2,
   "metadata": {},
   "outputs": [
    {
     "data": {
      "text/plain": [
       "['Census_BexarCounty_Housing_ACSDP5Y2020.DP04.xlsx',\n",
       " 'Spreadsheet_MOE&Math.xlsx',\n",
       " 'README.md',\n",
       " 'sa2020_stats.ipynb',\n",
       " '.gitignore',\n",
       " 'CMO_CDTractsPrecincts_220406[1].xlsx',\n",
       " '.ipynb_checkpoints',\n",
       " '.git']"
      ]
     },
     "execution_count": 2,
     "metadata": {},
     "output_type": "execute_result"
    }
   ],
   "source": [
    "os.listdir()"
   ]
  },
  {
   "cell_type": "code",
   "execution_count": 97,
   "metadata": {},
   "outputs": [],
   "source": [
    "df = pd.read_excel('Spreadsheet_MOE&Math.xlsx')"
   ]
  },
  {
   "cell_type": "code",
   "execution_count": 98,
   "metadata": {},
   "outputs": [],
   "source": [
    "df = df[:411]"
   ]
  },
  {
   "cell_type": "code",
   "execution_count": 99,
   "metadata": {},
   "outputs": [
    {
     "name": "stdout",
     "output_type": "stream",
     "text": [
      "<class 'pandas.core.frame.DataFrame'>\n",
      "RangeIndex: 411 entries, 0 to 410\n",
      "Data columns (total 10 columns):\n",
      "Geographic Area Name                                                                          411 non-null object\n",
      "Council District                                                                              411 non-null object\n",
      "Estimate!!VEHICLES AVAILABLE!!Occupied housing units                                          411 non-null float64\n",
      "Margin of Error!!VEHICLES AVAILABLE!!Occupied housing units                                   411 non-null float64\n",
      "MOE Occupied Housing Units Squared                                                            411 non-null float64\n",
      "Estimate!!VEHICLES AVAILABLE!!Occupied housing units!!No vehicles available                   411 non-null float64\n",
      "Margin of Error!!VEHICLES AVAILABLE!!Occupied housing units!!No vehicles available            411 non-null object\n",
      "MOE No Vehicles Available  Squared                                                            411 non-null object\n",
      "Percent!!VEHICLES AVAILABLE!!Occupied housing units!!No vehicles available                    411 non-null object\n",
      "Percent Margin of Error!!VEHICLES AVAILABLE!!Occupied housing units!!No vehicles available    411 non-null object\n",
      "dtypes: float64(4), object(6)\n",
      "memory usage: 32.2+ KB\n"
     ]
    }
   ],
   "source": [
    "df.info()"
   ]
  },
  {
   "cell_type": "code",
   "execution_count": 100,
   "metadata": {},
   "outputs": [
    {
     "data": {
      "text/plain": [
       "Index(['geographic_area_name', 'council_district',\n",
       "       'estimate_occupied_housing_units', 'moe_occupied_housing_units',\n",
       "       'moe_occupied_housing_units_squared',\n",
       "       'estimate_occupied_housing_units_no_vehicles_available',\n",
       "       'moe_occupied_housing_units_no_vehicles_available',\n",
       "       'moe_no_vehicles_available_squared',\n",
       "       'percent_occupied_housing_units_no_vehicles_available',\n",
       "       'percent_moe_occupied_housing_units_no_vehicles_available'],\n",
       "      dtype='object')"
      ]
     },
     "execution_count": 100,
     "metadata": {},
     "output_type": "execute_result"
    }
   ],
   "source": [
    "df.columns = df.columns.str.replace('VEHICLES AVAILABLE', '')\n",
    "df.columns = df.columns.str.lower().str.replace('\\W+','_').str.replace('margin_of_error', 'moe')\n",
    "df.columns"
   ]
  },
  {
   "cell_type": "code",
   "execution_count": 101,
   "metadata": {},
   "outputs": [
    {
     "data": {
      "text/plain": [
       "5145.0"
      ]
     },
     "execution_count": 101,
     "metadata": {},
     "output_type": "execute_result"
    }
   ],
   "source": [
    "round((df.moe_occupied_housing_units_squared.sum())**.5,1)"
   ]
  },
  {
   "cell_type": "code",
   "execution_count": 102,
   "metadata": {},
   "outputs": [
    {
     "data": {
      "text/plain": [
       "1881.9"
      ]
     },
     "execution_count": 102,
     "metadata": {},
     "output_type": "execute_result"
    }
   ],
   "source": [
    "round((df.moe_no_vehicles_available_squared.sum())**.5,1)"
   ]
  },
  {
   "cell_type": "markdown",
   "metadata": {},
   "source": [
    "### MOE Calculation"
   ]
  },
  {
   "cell_type": "markdown",
   "metadata": {},
   "source": [
    "moe = 1/y * sqrt( \\[moex\\]^2 - ( p^2 * \\[moey\\]^2 ) \n",
    "\n",
    "y = total population\n",
    "\n",
    "x = sample population\n",
    "\n",
    "p = proportion"
   ]
  },
  {
   "cell_type": "markdown",
   "metadata": {},
   "source": [
    "#### Example"
   ]
  },
  {
   "cell_type": "code",
   "execution_count": 103,
   "metadata": {},
   "outputs": [
    {
     "data": {
      "text/plain": [
       "630498"
      ]
     },
     "execution_count": 103,
     "metadata": {},
     "output_type": "execute_result"
    }
   ],
   "source": [
    "#total population\n",
    "y = 466037 + 97360 + 67101\n",
    "y"
   ]
  },
  {
   "cell_type": "code",
   "execution_count": 104,
   "metadata": {},
   "outputs": [
    {
     "data": {
      "text/plain": [
       "831"
      ]
     },
     "execution_count": 104,
     "metadata": {},
     "output_type": "execute_result"
    }
   ],
   "source": [
    "#moe of total \n",
    "moey = 831\n",
    "moey"
   ]
  },
  {
   "cell_type": "code",
   "execution_count": 105,
   "metadata": {},
   "outputs": [
    {
     "data": {
      "text/plain": [
       "0.32215645410453325"
      ]
     },
     "execution_count": 105,
     "metadata": {},
     "output_type": "execute_result"
    }
   ],
   "source": [
    "#proportion\n",
    "p = 203_119 / y\n",
    "p "
   ]
  },
  {
   "cell_type": "code",
   "execution_count": 106,
   "metadata": {},
   "outputs": [
    {
     "data": {
      "text/plain": [
       "5070"
      ]
     },
     "execution_count": 106,
     "metadata": {},
     "output_type": "execute_result"
    }
   ],
   "source": [
    "#moe of sample\n",
    "moex = 5070 \n",
    "moex"
   ]
  },
  {
   "cell_type": "code",
   "execution_count": 107,
   "metadata": {},
   "outputs": [],
   "source": [
    "#moe = 1/y * sqrt( [moex]^2 - ( p^2 * [moey]^2 ) * 100\n",
    "def moe_prop(y, moey, p, moex):\n",
    "    moe = 1/y * (moex**2 - (p**2 * moey**2))**.5 * 100\n",
    "    return round(moe,2)"
   ]
  },
  {
   "cell_type": "code",
   "execution_count": 108,
   "metadata": {},
   "outputs": [
    {
     "data": {
      "text/plain": [
       "0.8"
      ]
     },
     "execution_count": 108,
     "metadata": {},
     "output_type": "execute_result"
    }
   ],
   "source": [
    "moe_prop(y, moey, p, moex)"
   ]
  },
  {
   "cell_type": "markdown",
   "metadata": {},
   "source": [
    "### Real Life - Sheet 1"
   ]
  },
  {
   "cell_type": "code",
   "execution_count": 109,
   "metadata": {},
   "outputs": [],
   "source": [
    "#moe = +/- sqrt(x1^2 + x2^2 + x3^2)\n",
    "def moe(x):\n",
    "    moe = (x**2).sum()**.5\n",
    "    return round(moe,1)"
   ]
  },
  {
   "cell_type": "markdown",
   "metadata": {},
   "source": [
    "#### moe_prop(y, moey, p, moex) - county"
   ]
  },
  {
   "cell_type": "code",
   "execution_count": 110,
   "metadata": {},
   "outputs": [
    {
     "data": {
      "text/plain": [
       "709875.0"
      ]
     },
     "execution_count": 110,
     "metadata": {},
     "output_type": "execute_result"
    }
   ],
   "source": [
    "y = df.estimate_occupied_housing_units.sum()\n",
    "y"
   ]
  },
  {
   "cell_type": "code",
   "execution_count": 111,
   "metadata": {},
   "outputs": [
    {
     "data": {
      "text/plain": [
       "5145.0"
      ]
     },
     "execution_count": 111,
     "metadata": {},
     "output_type": "execute_result"
    }
   ],
   "source": [
    "moey = moe(df.moe_occupied_housing_units)\n",
    "moey"
   ]
  },
  {
   "cell_type": "code",
   "execution_count": 112,
   "metadata": {},
   "outputs": [
    {
     "data": {
      "text/plain": [
       "0.07015601338263779"
      ]
     },
     "execution_count": 112,
     "metadata": {},
     "output_type": "execute_result"
    }
   ],
   "source": [
    "p = df.estimate_occupied_housing_units_no_vehicles_available.sum() / df.estimate_occupied_housing_units.sum()\n",
    "p"
   ]
  },
  {
   "cell_type": "code",
   "execution_count": 113,
   "metadata": {},
   "outputs": [
    {
     "data": {
      "text/plain": [
       "1881.9"
      ]
     },
     "execution_count": 113,
     "metadata": {},
     "output_type": "execute_result"
    }
   ],
   "source": [
    "moex = moe(df.moe_occupied_housing_units_no_vehicles_available)\n",
    "moex"
   ]
  },
  {
   "cell_type": "code",
   "execution_count": 114,
   "metadata": {},
   "outputs": [
    {
     "data": {
      "text/plain": [
       "0.26"
      ]
     },
     "execution_count": 114,
     "metadata": {},
     "output_type": "execute_result"
    }
   ],
   "source": [
    "moe_prop(y, moey, p, moex)"
   ]
  },
  {
   "cell_type": "code",
   "execution_count": 115,
   "metadata": {},
   "outputs": [
    {
     "name": "stdout",
     "output_type": "stream",
     "text": [
      "<class 'pandas.core.frame.DataFrame'>\n",
      "RangeIndex: 411 entries, 0 to 410\n",
      "Data columns (total 10 columns):\n",
      "geographic_area_name                                        411 non-null object\n",
      "council_district                                            411 non-null object\n",
      "estimate_occupied_housing_units                             411 non-null float64\n",
      "moe_occupied_housing_units                                  411 non-null float64\n",
      "moe_occupied_housing_units_squared                          411 non-null float64\n",
      "estimate_occupied_housing_units_no_vehicles_available       411 non-null float64\n",
      "moe_occupied_housing_units_no_vehicles_available            411 non-null object\n",
      "moe_no_vehicles_available_squared                           411 non-null object\n",
      "percent_occupied_housing_units_no_vehicles_available        411 non-null object\n",
      "percent_moe_occupied_housing_units_no_vehicles_available    411 non-null object\n",
      "dtypes: float64(4), object(6)\n",
      "memory usage: 32.2+ KB\n"
     ]
    }
   ],
   "source": [
    "df.info()"
   ]
  },
  {
   "cell_type": "markdown",
   "metadata": {},
   "source": [
    "#### moe_prop(y, moey, p, moex) - city"
   ]
  },
  {
   "cell_type": "code",
   "execution_count": 74,
   "metadata": {},
   "outputs": [],
   "source": [
    "df1 = df[df.council_district != 0]"
   ]
  },
  {
   "cell_type": "code",
   "execution_count": 75,
   "metadata": {},
   "outputs": [
    {
     "data": {
      "text/plain": [
       "572718.0"
      ]
     },
     "execution_count": 75,
     "metadata": {},
     "output_type": "execute_result"
    }
   ],
   "source": [
    "y = df1.estimate_occupied_housing_units.sum()\n",
    "y"
   ]
  },
  {
   "cell_type": "code",
   "execution_count": 76,
   "metadata": {},
   "outputs": [
    {
     "data": {
      "text/plain": [
       "4603.9"
      ]
     },
     "execution_count": 76,
     "metadata": {},
     "output_type": "execute_result"
    }
   ],
   "source": [
    "moey = moe(df1.moe_occupied_housing_units)\n",
    "moey"
   ]
  },
  {
   "cell_type": "code",
   "execution_count": 77,
   "metadata": {},
   "outputs": [
    {
     "data": {
      "text/plain": [
       "0.0790441369050737"
      ]
     },
     "execution_count": 77,
     "metadata": {},
     "output_type": "execute_result"
    }
   ],
   "source": [
    "p = df1.estimate_occupied_housing_units_no_vehicles_available.sum() / df1.estimate_occupied_housing_units.sum()\n",
    "p"
   ]
  },
  {
   "cell_type": "code",
   "execution_count": 78,
   "metadata": {},
   "outputs": [
    {
     "data": {
      "text/plain": [
       "1799.2"
      ]
     },
     "execution_count": 78,
     "metadata": {},
     "output_type": "execute_result"
    }
   ],
   "source": [
    "moex = moe(df1.moe_occupied_housing_units_no_vehicles_available)\n",
    "moex"
   ]
  },
  {
   "cell_type": "code",
   "execution_count": 79,
   "metadata": {},
   "outputs": [
    {
     "data": {
      "text/plain": [
       "0.31"
      ]
     },
     "execution_count": 79,
     "metadata": {},
     "output_type": "execute_result"
    }
   ],
   "source": [
    "moe_prop(y, moey, p, moex)"
   ]
  },
  {
   "cell_type": "code",
   "execution_count": null,
   "metadata": {},
   "outputs": [],
   "source": []
  },
  {
   "cell_type": "markdown",
   "metadata": {},
   "source": [
    "### Real Life - Sheet 2"
   ]
  },
  {
   "cell_type": "code",
   "execution_count": 55,
   "metadata": {},
   "outputs": [],
   "source": [
    "df2 = pd.read_excel('Spreadsheet_MOE&Math.xlsx', sheet_name='MOE Ratio - P.65')"
   ]
  },
  {
   "cell_type": "code",
   "execution_count": 56,
   "metadata": {},
   "outputs": [],
   "source": [
    "df2 = df1[:35]"
   ]
  },
  {
   "cell_type": "code",
   "execution_count": 57,
   "metadata": {},
   "outputs": [
    {
     "data": {
      "text/plain": [
       "Index(['geographic_area_name', 'council_district',\n",
       "       'estimate_housing_occupancy_total_housing_units',\n",
       "       'moe_housing_occupancy_total_housing_units', 'total_housing_units_moe',\n",
       "       'estimate_housing_occupancy_total_housing_units_occupied_housing_units',\n",
       "       'moe_housing_occupancy_total_housing_units_occupied_housing_units',\n",
       "       'occupied_housing_units_moe',\n",
       "       'percent_housing_occupancy_total_housing_units_occupied_housing_units',\n",
       "       'percent_moe_housing_occupancy_total_housing_units_occupied_housing_units'],\n",
       "      dtype='object')"
      ]
     },
     "execution_count": 57,
     "metadata": {},
     "output_type": "execute_result"
    }
   ],
   "source": [
    "df2.columns = df2.columns.str.replace('VEHICLES AVAILABLE', '')\n",
    "df2.columns = df2.columns.str.lower().str.replace('\\W+','_').str.replace('margin_of_error', 'moe')\n",
    "df2.columns"
   ]
  },
  {
   "cell_type": "markdown",
   "metadata": {},
   "source": [
    "#### moe_prop(y, moey, p, moex)"
   ]
  },
  {
   "cell_type": "code",
   "execution_count": 58,
   "metadata": {},
   "outputs": [
    {
     "data": {
      "text/plain": [
       "61314.0"
      ]
     },
     "execution_count": 58,
     "metadata": {},
     "output_type": "execute_result"
    }
   ],
   "source": [
    "y = df2.estimate_housing_occupancy_total_housing_units.sum()\n",
    "y"
   ]
  },
  {
   "cell_type": "code",
   "execution_count": 59,
   "metadata": {},
   "outputs": [
    {
     "data": {
      "text/plain": [
       "1512.9"
      ]
     },
     "execution_count": 59,
     "metadata": {},
     "output_type": "execute_result"
    }
   ],
   "source": [
    "moey = moe(df2.moe_housing_occupancy_total_housing_units)\n",
    "moey"
   ]
  },
  {
   "cell_type": "code",
   "execution_count": 139,
   "metadata": {},
   "outputs": [
    {
     "data": {
      "text/plain": [
       "1512.8833398514241"
      ]
     },
     "execution_count": 139,
     "metadata": {},
     "output_type": "execute_result"
    }
   ],
   "source": [
    "test = df2.moe_housing_occupancy_total_housing_units\n",
    "test = df2.moe_housing_occupancy_total_housing_units**2\n",
    "test = test.sum()\n",
    "test = test**.5\n",
    "test"
   ]
  },
  {
   "cell_type": "code",
   "execution_count": null,
   "metadata": {},
   "outputs": [],
   "source": []
  },
  {
   "cell_type": "code",
   "execution_count": 60,
   "metadata": {},
   "outputs": [
    {
     "data": {
      "text/plain": [
       "1525.1"
      ]
     },
     "execution_count": 60,
     "metadata": {},
     "output_type": "execute_result"
    }
   ],
   "source": [
    "moex = moe(df2.moe_housing_occupancy_total_housing_units_occupied_housing_units)\n",
    "moex"
   ]
  },
  {
   "cell_type": "code",
   "execution_count": 62,
   "metadata": {},
   "outputs": [
    {
     "data": {
      "text/plain": [
       "0.8776299050787748"
      ]
     },
     "execution_count": 62,
     "metadata": {},
     "output_type": "execute_result"
    }
   ],
   "source": [
    "p = df2.estimate_housing_occupancy_total_housing_units_occupied_housing_units.sum() / df2.estimate_housing_occupancy_total_housing_units.sum()\n",
    "p"
   ]
  },
  {
   "cell_type": "code",
   "execution_count": 63,
   "metadata": {},
   "outputs": [
    {
     "data": {
      "text/plain": [
       "1.22"
      ]
     },
     "execution_count": 63,
     "metadata": {},
     "output_type": "execute_result"
    }
   ],
   "source": [
    "moe_prop(y, moey, p, moex)"
   ]
  },
  {
   "cell_type": "code",
   "execution_count": null,
   "metadata": {},
   "outputs": [],
   "source": []
  },
  {
   "cell_type": "code",
   "execution_count": null,
   "metadata": {},
   "outputs": [],
   "source": []
  }
 ],
 "metadata": {
  "kernelspec": {
   "display_name": "Python 3",
   "language": "python",
   "name": "python3"
  },
  "language_info": {
   "codemirror_mode": {
    "name": "ipython",
    "version": 3
   },
   "file_extension": ".py",
   "mimetype": "text/x-python",
   "name": "python",
   "nbconvert_exporter": "python",
   "pygments_lexer": "ipython3",
   "version": "3.7.3"
  },
  "toc": {
   "base_numbering": 1,
   "nav_menu": {},
   "number_sections": false,
   "sideBar": true,
   "skip_h1_title": true,
   "title_cell": "Table of Contents",
   "title_sidebar": "Contents",
   "toc_cell": false,
   "toc_position": {},
   "toc_section_display": true,
   "toc_window_display": false
  }
 },
 "nbformat": 4,
 "nbformat_minor": 2
}
