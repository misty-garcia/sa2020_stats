{
 "cells": [
  {
   "cell_type": "markdown",
   "metadata": {},
   "source": [
    "## Review"
   ]
  },
  {
   "cell_type": "code",
   "execution_count": 1,
   "metadata": {},
   "outputs": [],
   "source": [
    "import pandas as pd\n",
    "import numpy as np\n",
    "import os"
   ]
  },
  {
   "cell_type": "code",
   "execution_count": 3,
   "metadata": {},
   "outputs": [
    {
     "data": {
      "text/plain": [
       "['Census_BexarCounty_Housing_ACSDP5Y2020.DP04.xlsx',\n",
       " 'Spreadsheet_MOE&Math.xlsx',\n",
       " 'README.md',\n",
       " 'sa2020_stats.ipynb',\n",
       " '.gitignore',\n",
       " 'CMO_CDTractsPrecincts_220406[1].xlsx',\n",
       " '.ipynb_checkpoints',\n",
       " '.git']"
      ]
     },
     "execution_count": 3,
     "metadata": {},
     "output_type": "execute_result"
    }
   ],
   "source": [
    "os.listdir()"
   ]
  },
  {
   "cell_type": "code",
   "execution_count": 59,
   "metadata": {},
   "outputs": [],
   "source": [
    "df = pd.read_excel('Spreadsheet_MOE&Math.xlsx')"
   ]
  },
  {
   "cell_type": "code",
   "execution_count": 60,
   "metadata": {},
   "outputs": [],
   "source": [
    "df = df[:411]"
   ]
  },
  {
   "cell_type": "code",
   "execution_count": 61,
   "metadata": {},
   "outputs": [
    {
     "name": "stdout",
     "output_type": "stream",
     "text": [
      "<class 'pandas.core.frame.DataFrame'>\n",
      "RangeIndex: 411 entries, 0 to 410\n",
      "Data columns (total 10 columns):\n",
      "Geographic Area Name                                                                          411 non-null object\n",
      "Council District                                                                              411 non-null object\n",
      "Estimate!!VEHICLES AVAILABLE!!Occupied housing units                                          411 non-null float64\n",
      "Margin of Error!!VEHICLES AVAILABLE!!Occupied housing units                                   411 non-null float64\n",
      "MOE Occupied Housing Units Squared                                                            411 non-null float64\n",
      "Estimate!!VEHICLES AVAILABLE!!Occupied housing units!!No vehicles available                   411 non-null float64\n",
      "Margin of Error!!VEHICLES AVAILABLE!!Occupied housing units!!No vehicles available            411 non-null object\n",
      "MOE No Vehicles Available  Squared                                                            411 non-null object\n",
      "Percent!!VEHICLES AVAILABLE!!Occupied housing units!!No vehicles available                    411 non-null object\n",
      "Percent Margin of Error!!VEHICLES AVAILABLE!!Occupied housing units!!No vehicles available    411 non-null object\n",
      "dtypes: float64(4), object(6)\n",
      "memory usage: 32.2+ KB\n"
     ]
    }
   ],
   "source": [
    "df.info()"
   ]
  },
  {
   "cell_type": "code",
   "execution_count": 62,
   "metadata": {},
   "outputs": [],
   "source": [
    "df.columns = df.columns.str.replace('VEHICLES AVAILABLE', '')"
   ]
  },
  {
   "cell_type": "code",
   "execution_count": 63,
   "metadata": {},
   "outputs": [],
   "source": [
    "df.columns = df.columns.str.lower().str.replace('\\W+','_').str.replace('margin_of_error', 'moe')"
   ]
  },
  {
   "cell_type": "code",
   "execution_count": 64,
   "metadata": {},
   "outputs": [
    {
     "data": {
      "text/plain": [
       "Index(['geographic_area_name', 'council_district',\n",
       "       'estimate_occupied_housing_units', 'moe_occupied_housing_units',\n",
       "       'moe_occupied_housing_units_squared',\n",
       "       'estimate_occupied_housing_units_no_vehicles_available',\n",
       "       'moe_occupied_housing_units_no_vehicles_available',\n",
       "       'moe_no_vehicles_available_squared',\n",
       "       'percent_occupied_housing_units_no_vehicles_available',\n",
       "       'percent_moe_occupied_housing_units_no_vehicles_available'],\n",
       "      dtype='object')"
      ]
     },
     "execution_count": 64,
     "metadata": {},
     "output_type": "execute_result"
    }
   ],
   "source": [
    "df.columns"
   ]
  },
  {
   "cell_type": "code",
   "execution_count": 66,
   "metadata": {},
   "outputs": [],
   "source": [
    "df['moe_vehicles_yes_sq'] = df.moe_occupied_housing_units**2"
   ]
  },
  {
   "cell_type": "code",
   "execution_count": 70,
   "metadata": {},
   "outputs": [
    {
     "data": {
      "text/plain": [
       "0"
      ]
     },
     "execution_count": 70,
     "metadata": {},
     "output_type": "execute_result"
    }
   ],
   "source": [
    "(df.moe_vehicles_yes_sq != df.moe_occupied_housing_units_squared).sum()"
   ]
  },
  {
   "cell_type": "code",
   "execution_count": 69,
   "metadata": {},
   "outputs": [],
   "source": [
    "df['moe_vehicles_no_sq'] = df.moe_occupied_housing_units_no_vehicles_available**2"
   ]
  },
  {
   "cell_type": "code",
   "execution_count": 71,
   "metadata": {},
   "outputs": [
    {
     "data": {
      "text/plain": [
       "0"
      ]
     },
     "execution_count": 71,
     "metadata": {},
     "output_type": "execute_result"
    }
   ],
   "source": [
    "(df.moe_vehicles_no_sq != df.moe_no_vehicles_available_squared).sum()"
   ]
  },
  {
   "cell_type": "code",
   "execution_count": 75,
   "metadata": {},
   "outputs": [
    {
     "data": {
      "text/plain": [
       "5478.31835511592"
      ]
     },
     "execution_count": 75,
     "metadata": {},
     "output_type": "execute_result"
    }
   ],
   "source": [
    "(df.moe_vehicles_yes_sq.sum() + df.moe_vehicles_no_sq.sum())**.5"
   ]
  },
  {
   "cell_type": "code",
   "execution_count": null,
   "metadata": {},
   "outputs": [],
   "source": []
  }
 ],
 "metadata": {
  "kernelspec": {
   "display_name": "Python 3",
   "language": "python",
   "name": "python3"
  },
  "language_info": {
   "codemirror_mode": {
    "name": "ipython",
    "version": 3
   },
   "file_extension": ".py",
   "mimetype": "text/x-python",
   "name": "python",
   "nbconvert_exporter": "python",
   "pygments_lexer": "ipython3",
   "version": "3.7.3"
  },
  "toc": {
   "base_numbering": 1,
   "nav_menu": {},
   "number_sections": false,
   "sideBar": true,
   "skip_h1_title": true,
   "title_cell": "Table of Contents",
   "title_sidebar": "Contents",
   "toc_cell": false,
   "toc_position": {},
   "toc_section_display": true,
   "toc_window_display": false
  }
 },
 "nbformat": 4,
 "nbformat_minor": 2
}
